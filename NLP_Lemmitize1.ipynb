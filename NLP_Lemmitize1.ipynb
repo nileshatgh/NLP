{
  "nbformat": 4,
  "nbformat_minor": 0,
  "metadata": {
    "colab": {
      "provenance": []
    },
    "kernelspec": {
      "name": "python3",
      "display_name": "Python 3"
    },
    "language_info": {
      "name": "python"
    }
  },
  "cells": [
    {
      "cell_type": "code",
      "source": [
        "import nltk"
      ],
      "metadata": {
        "id": "VZGMw6Nm3CPj"
      },
      "execution_count": null,
      "outputs": []
    },
    {
      "cell_type": "code",
      "execution_count": null,
      "metadata": {
        "id": "3hhgiGrW1ZIk"
      },
      "outputs": [],
      "source": [
        "from nltk.stem import WordNetLemmatizer"
      ]
    },
    {
      "cell_type": "code",
      "source": [
        "nltk.download('wordnet')"
      ],
      "metadata": {
        "colab": {
          "base_uri": "https://localhost:8080/"
        },
        "id": "UmJLKd4h2l_t",
        "outputId": "62cda11b-522d-4cec-c88d-a81d1947acd9"
      },
      "execution_count": null,
      "outputs": [
        {
          "output_type": "stream",
          "name": "stderr",
          "text": [
            "[nltk_data] Downloading package wordnet to /root/nltk_data...\n"
          ]
        },
        {
          "output_type": "execute_result",
          "data": {
            "text/plain": [
              "True"
            ]
          },
          "metadata": {},
          "execution_count": 6
        }
      ]
    },
    {
      "cell_type": "code",
      "source": [
        "corpus=\"\"\"One who is not envious but is a kind friend to all living entities, who does not think himself a proprietor and is free from false ego, who is equal in both happiness and distress, who is tolerant, always satisfied, self-controlled, and engaged in devotional service with determination, his mind and intelligence fixed on Me – such a devotee of Mine is very dear to Me.\n",
        "He by whom no one is put into difficulty and who is not disturbed by anyone, who is equipoised in happiness and distress, fear and anxiety, is very dear to Me.\n",
        "My devotee who is not dependent on the ordinary course of activities, who is pure, expert, without cares, free from all pains, and not striving for some result, is very dear to Me.\n",
        "One who neither rejoices nor grieves, who neither laments nor desires, and who renounces both auspicious and inauspicious things – such a devotee is very dear to Me.\n",
        "One who is equal to friends and enemies, who is equipoised in honor and dishonor, heat and cold, happiness and distress, fame and infamy, who is always free from contaminating association, always silent and satisfied with anything, who doesn’t care for any residence, who is fixed in knowledge and who is engaged in devotional service – such a person is very dear to Me.\n",
        "Those who follow this imperishable path of devotional service and who completely engage themselves with faith, making Me the supreme goal, are very, very dear to Me.\n",
        "\"\"\""
      ],
      "metadata": {
        "id": "aFduOYM32xdy"
      },
      "execution_count": null,
      "outputs": []
    },
    {
      "cell_type": "code",
      "source": [
        "##Sentence Tokenization\n",
        "from nltk.tokenize import sent_tokenize"
      ],
      "metadata": {
        "id": "UBZF9-i34-og"
      },
      "execution_count": null,
      "outputs": []
    },
    {
      "cell_type": "code",
      "source": [
        "nltk.download('punkt')"
      ],
      "metadata": {
        "colab": {
          "base_uri": "https://localhost:8080/"
        },
        "id": "YYvWsyqd5xLP",
        "outputId": "1cfb0d67-ab8c-4020-b7eb-183ce054fafe"
      },
      "execution_count": null,
      "outputs": [
        {
          "output_type": "stream",
          "name": "stderr",
          "text": [
            "[nltk_data] Downloading package punkt to /root/nltk_data...\n",
            "[nltk_data]   Unzipping tokenizers/punkt.zip.\n"
          ]
        },
        {
          "output_type": "execute_result",
          "data": {
            "text/plain": [
              "True"
            ]
          },
          "metadata": {},
          "execution_count": 14
        }
      ]
    },
    {
      "cell_type": "code",
      "source": [
        "documents=sent_tokenize(corpus)"
      ],
      "metadata": {
        "id": "5St3O5i15XV-"
      },
      "execution_count": null,
      "outputs": []
    },
    {
      "cell_type": "code",
      "source": [
        "for sentence in documents:\n",
        "  print(sentence)"
      ],
      "metadata": {
        "colab": {
          "base_uri": "https://localhost:8080/"
        },
        "id": "LLpDKlX05fKR",
        "outputId": "72576908-9b2e-4977-f02f-972065e9fa3e"
      },
      "execution_count": null,
      "outputs": [
        {
          "output_type": "stream",
          "name": "stdout",
          "text": [
            "One who is not envious but is a kind friend to all living entities, who does not think himself a proprietor and is free from false ego, who is equal in both happiness and distress, who is tolerant, always satisfied, self-controlled, and engaged in devotional service with determination, his mind and intelligence fixed on Me – such a devotee of Mine is very dear to Me.\n",
            "He by whom no one is put into difficulty and who is not disturbed by anyone, who is equipoised in happiness and distress, fear and anxiety, is very dear to Me.\n",
            "My devotee who is not dependent on the ordinary course of activities, who is pure, expert, without cares, free from all pains, and not striving for some result, is very dear to Me.\n",
            "One who neither rejoices nor grieves, who neither laments nor desires, and who renounces both auspicious and inauspicious things – such a devotee is very dear to Me.\n",
            "One who is equal to friends and enemies, who is equipoised in honor and dishonor, heat and cold, happiness and distress, fame and infamy, who is always free from contaminating association, always silent and satisfied with anything, who doesn’t care for any residence, who is fixed in knowledge and who is engaged in devotional service – such a person is very dear to Me.\n",
            "Those who follow this imperishable path of devotional service and who completely engage themselves with faith, making Me the supreme goal, are very, very dear to Me.\n"
          ]
        }
      ]
    },
    {
      "cell_type": "code",
      "source": [
        "##Word Tokenization\n",
        "from nltk.tokenize import word_tokenize"
      ],
      "metadata": {
        "id": "7URaz1bD6rCL"
      },
      "execution_count": null,
      "outputs": []
    },
    {
      "cell_type": "code",
      "source": [
        "words=word_tokenize(corpus)"
      ],
      "metadata": {
        "id": "ORbO_C_17BEI"
      },
      "execution_count": null,
      "outputs": []
    },
    {
      "cell_type": "code",
      "source": [
        "lemmatizer=WordNetLemmatizer()"
      ],
      "metadata": {
        "id": "l5JiUhai2XCw"
      },
      "execution_count": null,
      "outputs": []
    },
    {
      "cell_type": "code",
      "source": [
        "for word in words:\n",
        "  print(lemmatizer.lemmatize(word,pos='v'))"
      ],
      "metadata": {
        "colab": {
          "base_uri": "https://localhost:8080/"
        },
        "id": "dWbZ7GX_2exa",
        "outputId": "670f4c43-374f-4e0b-b9ad-241bfd8a341c"
      },
      "execution_count": null,
      "outputs": [
        {
          "output_type": "stream",
          "name": "stdout",
          "text": [
            "One\n",
            "who\n",
            "be\n",
            "not\n",
            "envious\n",
            "but\n",
            "be\n",
            "a\n",
            "kind\n",
            "friend\n",
            "to\n",
            "all\n",
            "live\n",
            "entities\n",
            ",\n",
            "who\n",
            "do\n",
            "not\n",
            "think\n",
            "himself\n",
            "a\n",
            "proprietor\n",
            "and\n",
            "be\n",
            "free\n",
            "from\n",
            "false\n",
            "ego\n",
            ",\n",
            "who\n",
            "be\n",
            "equal\n",
            "in\n",
            "both\n",
            "happiness\n",
            "and\n",
            "distress\n",
            ",\n",
            "who\n",
            "be\n",
            "tolerant\n",
            ",\n",
            "always\n",
            "satisfy\n",
            ",\n",
            "self-controlled\n",
            ",\n",
            "and\n",
            "engage\n",
            "in\n",
            "devotional\n",
            "service\n",
            "with\n",
            "determination\n",
            ",\n",
            "his\n",
            "mind\n",
            "and\n",
            "intelligence\n",
            "fix\n",
            "on\n",
            "Me\n",
            "–\n",
            "such\n",
            "a\n",
            "devotee\n",
            "of\n",
            "Mine\n",
            "be\n",
            "very\n",
            "dear\n",
            "to\n",
            "Me\n",
            ".\n",
            "He\n",
            "by\n",
            "whom\n",
            "no\n",
            "one\n",
            "be\n",
            "put\n",
            "into\n",
            "difficulty\n",
            "and\n",
            "who\n",
            "be\n",
            "not\n",
            "disturb\n",
            "by\n",
            "anyone\n",
            ",\n",
            "who\n",
            "be\n",
            "equipoised\n",
            "in\n",
            "happiness\n",
            "and\n",
            "distress\n",
            ",\n",
            "fear\n",
            "and\n",
            "anxiety\n",
            ",\n",
            "be\n",
            "very\n",
            "dear\n",
            "to\n",
            "Me\n",
            ".\n",
            "My\n",
            "devotee\n",
            "who\n",
            "be\n",
            "not\n",
            "dependent\n",
            "on\n",
            "the\n",
            "ordinary\n",
            "course\n",
            "of\n",
            "activities\n",
            ",\n",
            "who\n",
            "be\n",
            "pure\n",
            ",\n",
            "expert\n",
            ",\n",
            "without\n",
            "care\n",
            ",\n",
            "free\n",
            "from\n",
            "all\n",
            "pain\n",
            ",\n",
            "and\n",
            "not\n",
            "strive\n",
            "for\n",
            "some\n",
            "result\n",
            ",\n",
            "be\n",
            "very\n",
            "dear\n",
            "to\n",
            "Me\n",
            ".\n",
            "One\n",
            "who\n",
            "neither\n",
            "rejoice\n",
            "nor\n",
            "grieve\n",
            ",\n",
            "who\n",
            "neither\n",
            "lament\n",
            "nor\n",
            "desire\n",
            ",\n",
            "and\n",
            "who\n",
            "renounce\n",
            "both\n",
            "auspicious\n",
            "and\n",
            "inauspicious\n",
            "things\n",
            "–\n",
            "such\n",
            "a\n",
            "devotee\n",
            "be\n",
            "very\n",
            "dear\n",
            "to\n",
            "Me\n",
            ".\n",
            "One\n",
            "who\n",
            "be\n",
            "equal\n",
            "to\n",
            "friends\n",
            "and\n",
            "enemies\n",
            ",\n",
            "who\n",
            "be\n",
            "equipoised\n",
            "in\n",
            "honor\n",
            "and\n",
            "dishonor\n",
            ",\n",
            "heat\n",
            "and\n",
            "cold\n",
            ",\n",
            "happiness\n",
            "and\n",
            "distress\n",
            ",\n",
            "fame\n",
            "and\n",
            "infamy\n",
            ",\n",
            "who\n",
            "be\n",
            "always\n",
            "free\n",
            "from\n",
            "contaminate\n",
            "association\n",
            ",\n",
            "always\n",
            "silent\n",
            "and\n",
            "satisfy\n",
            "with\n",
            "anything\n",
            ",\n",
            "who\n",
            "doesn\n",
            "’\n",
            "t\n",
            "care\n",
            "for\n",
            "any\n",
            "residence\n",
            ",\n",
            "who\n",
            "be\n",
            "fix\n",
            "in\n",
            "knowledge\n",
            "and\n",
            "who\n",
            "be\n",
            "engage\n",
            "in\n",
            "devotional\n",
            "service\n",
            "–\n",
            "such\n",
            "a\n",
            "person\n",
            "be\n",
            "very\n",
            "dear\n",
            "to\n",
            "Me\n",
            ".\n",
            "Those\n",
            "who\n",
            "follow\n",
            "this\n",
            "imperishable\n",
            "path\n",
            "of\n",
            "devotional\n",
            "service\n",
            "and\n",
            "who\n",
            "completely\n",
            "engage\n",
            "themselves\n",
            "with\n",
            "faith\n",
            ",\n",
            "make\n",
            "Me\n",
            "the\n",
            "supreme\n",
            "goal\n",
            ",\n",
            "be\n",
            "very\n",
            ",\n",
            "very\n",
            "dear\n",
            "to\n",
            "Me\n",
            ".\n"
          ]
        }
      ]
    },
    {
      "cell_type": "code",
      "source": [],
      "metadata": {
        "id": "R5vPxf1J9LcF"
      },
      "execution_count": null,
      "outputs": []
    }
  ]
}