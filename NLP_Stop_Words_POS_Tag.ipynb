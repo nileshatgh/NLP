{
  "nbformat": 4,
  "nbformat_minor": 0,
  "metadata": {
    "colab": {
      "provenance": []
    },
    "kernelspec": {
      "name": "python3",
      "display_name": "Python 3"
    },
    "language_info": {
      "name": "python"
    }
  },
  "cells": [
    {
      "cell_type": "code",
      "execution_count": 38,
      "metadata": {
        "id": "4a9RyKcLCdob"
      },
      "outputs": [],
      "source": [
        "import nltk"
      ]
    },
    {
      "cell_type": "code",
      "source": [
        "nltk.download('wordnet')"
      ],
      "metadata": {
        "colab": {
          "base_uri": "https://localhost:8080/"
        },
        "id": "pLVjVyMVCzFd",
        "outputId": "25b2761b-1a33-4096-a876-9af01b516190"
      },
      "execution_count": 39,
      "outputs": [
        {
          "output_type": "stream",
          "name": "stderr",
          "text": [
            "[nltk_data] Downloading package wordnet to /root/nltk_data...\n",
            "[nltk_data]   Package wordnet is already up-to-date!\n"
          ]
        },
        {
          "output_type": "execute_result",
          "data": {
            "text/plain": [
              "True"
            ]
          },
          "metadata": {},
          "execution_count": 39
        }
      ]
    },
    {
      "cell_type": "code",
      "source": [
        "nltk.download('punkt')"
      ],
      "metadata": {
        "colab": {
          "base_uri": "https://localhost:8080/"
        },
        "id": "bXz1kyLIDEA-",
        "outputId": "f82401f4-9559-492b-dff0-189346aeec0d"
      },
      "execution_count": 40,
      "outputs": [
        {
          "output_type": "stream",
          "name": "stderr",
          "text": [
            "[nltk_data] Downloading package punkt to /root/nltk_data...\n",
            "[nltk_data]   Package punkt is already up-to-date!\n"
          ]
        },
        {
          "output_type": "execute_result",
          "data": {
            "text/plain": [
              "True"
            ]
          },
          "metadata": {},
          "execution_count": 40
        }
      ]
    },
    {
      "cell_type": "code",
      "source": [
        "from nltk.tokenize import sent_tokenize"
      ],
      "metadata": {
        "id": "e3BLAeaYDOfF"
      },
      "execution_count": 41,
      "outputs": []
    },
    {
      "cell_type": "code",
      "source": [
        "from nltk.tokenize import word_tokenize"
      ],
      "metadata": {
        "id": "dQiClIthDubc"
      },
      "execution_count": 42,
      "outputs": []
    },
    {
      "cell_type": "code",
      "source": [
        "corpus=\"\"\"One who is not envious but is a kind friend to all living entities, who does not think himself a proprietor and is free from false ego, who is equal in both happiness and distress, who is tolerant, always satisfied, self-controlled, and engaged in devotional service with determination, his mind and intelligence fixed on Me – such a devotee of Mine is very dear to Me.\n",
        "He by whom no one is put into difficulty and who is not disturbed by anyone, who is equipoised in happiness and distress, fear and anxiety, is very dear to Me.\n",
        "My devotee who is not dependent on the ordinary course of activities, who is pure, expert, without cares, free from all pains, and not striving for some result, is very dear to Me.\n",
        "One who neither rejoices nor grieves, who neither laments nor desires, and who renounces both auspicious and inauspicious things – such a devotee is very dear to Me.\n",
        "One who is equal to friends and enemies, who is equipoised in honor and dishonor, heat and cold, happiness and distress, fame and infamy, who is always free from contaminating association, always silent and satisfied with anything, who doesn’t care for any residence, who is fixed in knowledge and who is engaged in devotional service – such a person is very dear to Me.\n",
        "Those who follow this imperishable path of devotional service and who completely engage themselves with faith, making Me the supreme goal, are very, very dear to Me.\n",
        "\"\"\""
      ],
      "metadata": {
        "id": "MwmmZ8vwEDFe"
      },
      "execution_count": 43,
      "outputs": []
    },
    {
      "cell_type": "code",
      "source": [
        "documents=sent_tokenize(corpus)"
      ],
      "metadata": {
        "id": "SfS6d3U7EHqg"
      },
      "execution_count": 44,
      "outputs": []
    },
    {
      "cell_type": "code",
      "source": [
        "print(documents)"
      ],
      "metadata": {
        "colab": {
          "base_uri": "https://localhost:8080/"
        },
        "id": "hh4mjDN4Eh4m",
        "outputId": "c5735f1d-7de8-41eb-e806-295041154c9e"
      },
      "execution_count": 45,
      "outputs": [
        {
          "output_type": "stream",
          "name": "stdout",
          "text": [
            "['One who is not envious but is a kind friend to all living entities, who does not think himself a proprietor and is free from false ego, who is equal in both happiness and distress, who is tolerant, always satisfied, self-controlled, and engaged in devotional service with determination, his mind and intelligence fixed on Me – such a devotee of Mine is very dear to Me.', 'He by whom no one is put into difficulty and who is not disturbed by anyone, who is equipoised in happiness and distress, fear and anxiety, is very dear to Me.', 'My devotee who is not dependent on the ordinary course of activities, who is pure, expert, without cares, free from all pains, and not striving for some result, is very dear to Me.', 'One who neither rejoices nor grieves, who neither laments nor desires, and who renounces both auspicious and inauspicious things – such a devotee is very dear to Me.', 'One who is equal to friends and enemies, who is equipoised in honor and dishonor, heat and cold, happiness and distress, fame and infamy, who is always free from contaminating association, always silent and satisfied with anything, who doesn’t care for any residence, who is fixed in knowledge and who is engaged in devotional service – such a person is very dear to Me.', 'Those who follow this imperishable path of devotional service and who completely engage themselves with faith, making Me the supreme goal, are very, very dear to Me.']\n"
          ]
        }
      ]
    },
    {
      "cell_type": "code",
      "source": [
        "for sentense in documents:\n",
        "  print(sentense)"
      ],
      "metadata": {
        "colab": {
          "base_uri": "https://localhost:8080/"
        },
        "id": "8kM0-fOAElDc",
        "outputId": "45a12716-c9ca-41da-8d48-8122d857b7f7"
      },
      "execution_count": 46,
      "outputs": [
        {
          "output_type": "stream",
          "name": "stdout",
          "text": [
            "One who is not envious but is a kind friend to all living entities, who does not think himself a proprietor and is free from false ego, who is equal in both happiness and distress, who is tolerant, always satisfied, self-controlled, and engaged in devotional service with determination, his mind and intelligence fixed on Me – such a devotee of Mine is very dear to Me.\n",
            "He by whom no one is put into difficulty and who is not disturbed by anyone, who is equipoised in happiness and distress, fear and anxiety, is very dear to Me.\n",
            "My devotee who is not dependent on the ordinary course of activities, who is pure, expert, without cares, free from all pains, and not striving for some result, is very dear to Me.\n",
            "One who neither rejoices nor grieves, who neither laments nor desires, and who renounces both auspicious and inauspicious things – such a devotee is very dear to Me.\n",
            "One who is equal to friends and enemies, who is equipoised in honor and dishonor, heat and cold, happiness and distress, fame and infamy, who is always free from contaminating association, always silent and satisfied with anything, who doesn’t care for any residence, who is fixed in knowledge and who is engaged in devotional service – such a person is very dear to Me.\n",
            "Those who follow this imperishable path of devotional service and who completely engage themselves with faith, making Me the supreme goal, are very, very dear to Me.\n"
          ]
        }
      ]
    },
    {
      "cell_type": "code",
      "source": [
        "words=word_tokenize(corpus)"
      ],
      "metadata": {
        "id": "0zGDB8C4FOqY"
      },
      "execution_count": 47,
      "outputs": []
    },
    {
      "cell_type": "code",
      "source": [
        "for word in words:\n",
        "  print(word,end=\" \")"
      ],
      "metadata": {
        "colab": {
          "base_uri": "https://localhost:8080/"
        },
        "id": "Zwb6Qn4gF8OL",
        "outputId": "bc14b58a-c23f-4f09-8147-9287e219f9b4"
      },
      "execution_count": 48,
      "outputs": [
        {
          "output_type": "stream",
          "name": "stdout",
          "text": [
            "One who is not envious but is a kind friend to all living entities , who does not think himself a proprietor and is free from false ego , who is equal in both happiness and distress , who is tolerant , always satisfied , self-controlled , and engaged in devotional service with determination , his mind and intelligence fixed on Me – such a devotee of Mine is very dear to Me . He by whom no one is put into difficulty and who is not disturbed by anyone , who is equipoised in happiness and distress , fear and anxiety , is very dear to Me . My devotee who is not dependent on the ordinary course of activities , who is pure , expert , without cares , free from all pains , and not striving for some result , is very dear to Me . One who neither rejoices nor grieves , who neither laments nor desires , and who renounces both auspicious and inauspicious things – such a devotee is very dear to Me . One who is equal to friends and enemies , who is equipoised in honor and dishonor , heat and cold , happiness and distress , fame and infamy , who is always free from contaminating association , always silent and satisfied with anything , who doesn ’ t care for any residence , who is fixed in knowledge and who is engaged in devotional service – such a person is very dear to Me . Those who follow this imperishable path of devotional service and who completely engage themselves with faith , making Me the supreme goal , are very , very dear to Me . "
          ]
        }
      ]
    },
    {
      "cell_type": "code",
      "source": [
        "from nltk.stem import WordNetLemmatizer"
      ],
      "metadata": {
        "id": "UVhllX91GDVa"
      },
      "execution_count": 49,
      "outputs": []
    },
    {
      "cell_type": "code",
      "source": [
        "lemmatizer=WordNetLemmatizer()"
      ],
      "metadata": {
        "id": "bko0dbXKGkri"
      },
      "execution_count": 50,
      "outputs": []
    },
    {
      "cell_type": "code",
      "source": [
        "for word in words:\n",
        "  print(lemmatizer.lemmatize(word,pos='v'))"
      ],
      "metadata": {
        "colab": {
          "base_uri": "https://localhost:8080/"
        },
        "collapsed": true,
        "id": "FfuM9tj3G7V3",
        "outputId": "3972a890-eed5-4212-8362-c7ed9210b454"
      },
      "execution_count": 51,
      "outputs": [
        {
          "output_type": "stream",
          "name": "stdout",
          "text": [
            "One\n",
            "who\n",
            "be\n",
            "not\n",
            "envious\n",
            "but\n",
            "be\n",
            "a\n",
            "kind\n",
            "friend\n",
            "to\n",
            "all\n",
            "live\n",
            "entities\n",
            ",\n",
            "who\n",
            "do\n",
            "not\n",
            "think\n",
            "himself\n",
            "a\n",
            "proprietor\n",
            "and\n",
            "be\n",
            "free\n",
            "from\n",
            "false\n",
            "ego\n",
            ",\n",
            "who\n",
            "be\n",
            "equal\n",
            "in\n",
            "both\n",
            "happiness\n",
            "and\n",
            "distress\n",
            ",\n",
            "who\n",
            "be\n",
            "tolerant\n",
            ",\n",
            "always\n",
            "satisfy\n",
            ",\n",
            "self-controlled\n",
            ",\n",
            "and\n",
            "engage\n",
            "in\n",
            "devotional\n",
            "service\n",
            "with\n",
            "determination\n",
            ",\n",
            "his\n",
            "mind\n",
            "and\n",
            "intelligence\n",
            "fix\n",
            "on\n",
            "Me\n",
            "–\n",
            "such\n",
            "a\n",
            "devotee\n",
            "of\n",
            "Mine\n",
            "be\n",
            "very\n",
            "dear\n",
            "to\n",
            "Me\n",
            ".\n",
            "He\n",
            "by\n",
            "whom\n",
            "no\n",
            "one\n",
            "be\n",
            "put\n",
            "into\n",
            "difficulty\n",
            "and\n",
            "who\n",
            "be\n",
            "not\n",
            "disturb\n",
            "by\n",
            "anyone\n",
            ",\n",
            "who\n",
            "be\n",
            "equipoised\n",
            "in\n",
            "happiness\n",
            "and\n",
            "distress\n",
            ",\n",
            "fear\n",
            "and\n",
            "anxiety\n",
            ",\n",
            "be\n",
            "very\n",
            "dear\n",
            "to\n",
            "Me\n",
            ".\n",
            "My\n",
            "devotee\n",
            "who\n",
            "be\n",
            "not\n",
            "dependent\n",
            "on\n",
            "the\n",
            "ordinary\n",
            "course\n",
            "of\n",
            "activities\n",
            ",\n",
            "who\n",
            "be\n",
            "pure\n",
            ",\n",
            "expert\n",
            ",\n",
            "without\n",
            "care\n",
            ",\n",
            "free\n",
            "from\n",
            "all\n",
            "pain\n",
            ",\n",
            "and\n",
            "not\n",
            "strive\n",
            "for\n",
            "some\n",
            "result\n",
            ",\n",
            "be\n",
            "very\n",
            "dear\n",
            "to\n",
            "Me\n",
            ".\n",
            "One\n",
            "who\n",
            "neither\n",
            "rejoice\n",
            "nor\n",
            "grieve\n",
            ",\n",
            "who\n",
            "neither\n",
            "lament\n",
            "nor\n",
            "desire\n",
            ",\n",
            "and\n",
            "who\n",
            "renounce\n",
            "both\n",
            "auspicious\n",
            "and\n",
            "inauspicious\n",
            "things\n",
            "–\n",
            "such\n",
            "a\n",
            "devotee\n",
            "be\n",
            "very\n",
            "dear\n",
            "to\n",
            "Me\n",
            ".\n",
            "One\n",
            "who\n",
            "be\n",
            "equal\n",
            "to\n",
            "friends\n",
            "and\n",
            "enemies\n",
            ",\n",
            "who\n",
            "be\n",
            "equipoised\n",
            "in\n",
            "honor\n",
            "and\n",
            "dishonor\n",
            ",\n",
            "heat\n",
            "and\n",
            "cold\n",
            ",\n",
            "happiness\n",
            "and\n",
            "distress\n",
            ",\n",
            "fame\n",
            "and\n",
            "infamy\n",
            ",\n",
            "who\n",
            "be\n",
            "always\n",
            "free\n",
            "from\n",
            "contaminate\n",
            "association\n",
            ",\n",
            "always\n",
            "silent\n",
            "and\n",
            "satisfy\n",
            "with\n",
            "anything\n",
            ",\n",
            "who\n",
            "doesn\n",
            "’\n",
            "t\n",
            "care\n",
            "for\n",
            "any\n",
            "residence\n",
            ",\n",
            "who\n",
            "be\n",
            "fix\n",
            "in\n",
            "knowledge\n",
            "and\n",
            "who\n",
            "be\n",
            "engage\n",
            "in\n",
            "devotional\n",
            "service\n",
            "–\n",
            "such\n",
            "a\n",
            "person\n",
            "be\n",
            "very\n",
            "dear\n",
            "to\n",
            "Me\n",
            ".\n",
            "Those\n",
            "who\n",
            "follow\n",
            "this\n",
            "imperishable\n",
            "path\n",
            "of\n",
            "devotional\n",
            "service\n",
            "and\n",
            "who\n",
            "completely\n",
            "engage\n",
            "themselves\n",
            "with\n",
            "faith\n",
            ",\n",
            "make\n",
            "Me\n",
            "the\n",
            "supreme\n",
            "goal\n",
            ",\n",
            "be\n",
            "very\n",
            ",\n",
            "very\n",
            "dear\n",
            "to\n",
            "Me\n",
            ".\n"
          ]
        }
      ]
    },
    {
      "cell_type": "code",
      "source": [
        "from nltk.corpus import stopwords"
      ],
      "metadata": {
        "id": "5UdFcukTHlnW"
      },
      "execution_count": 52,
      "outputs": []
    },
    {
      "cell_type": "code",
      "source": [
        "nltk.download('stopwords')"
      ],
      "metadata": {
        "colab": {
          "base_uri": "https://localhost:8080/"
        },
        "id": "oaoJfI79Ngjn",
        "outputId": "8c7bd9e5-c026-407a-d0bd-3333707db804"
      },
      "execution_count": 53,
      "outputs": [
        {
          "output_type": "stream",
          "name": "stderr",
          "text": [
            "[nltk_data] Downloading package stopwords to /root/nltk_data...\n",
            "[nltk_data]   Package stopwords is already up-to-date!\n"
          ]
        },
        {
          "output_type": "execute_result",
          "data": {
            "text/plain": [
              "True"
            ]
          },
          "metadata": {},
          "execution_count": 53
        }
      ]
    },
    {
      "cell_type": "code",
      "source": [
        "stopwords.words('english')"
      ],
      "metadata": {
        "colab": {
          "base_uri": "https://localhost:8080/"
        },
        "id": "iDMLs16wMKpS",
        "outputId": "30699d31-4b8d-42a7-9ee8-f2712a5cabd9"
      },
      "execution_count": 54,
      "outputs": [
        {
          "output_type": "execute_result",
          "data": {
            "text/plain": [
              "['i',\n",
              " 'me',\n",
              " 'my',\n",
              " 'myself',\n",
              " 'we',\n",
              " 'our',\n",
              " 'ours',\n",
              " 'ourselves',\n",
              " 'you',\n",
              " \"you're\",\n",
              " \"you've\",\n",
              " \"you'll\",\n",
              " \"you'd\",\n",
              " 'your',\n",
              " 'yours',\n",
              " 'yourself',\n",
              " 'yourselves',\n",
              " 'he',\n",
              " 'him',\n",
              " 'his',\n",
              " 'himself',\n",
              " 'she',\n",
              " \"she's\",\n",
              " 'her',\n",
              " 'hers',\n",
              " 'herself',\n",
              " 'it',\n",
              " \"it's\",\n",
              " 'its',\n",
              " 'itself',\n",
              " 'they',\n",
              " 'them',\n",
              " 'their',\n",
              " 'theirs',\n",
              " 'themselves',\n",
              " 'what',\n",
              " 'which',\n",
              " 'who',\n",
              " 'whom',\n",
              " 'this',\n",
              " 'that',\n",
              " \"that'll\",\n",
              " 'these',\n",
              " 'those',\n",
              " 'am',\n",
              " 'is',\n",
              " 'are',\n",
              " 'was',\n",
              " 'were',\n",
              " 'be',\n",
              " 'been',\n",
              " 'being',\n",
              " 'have',\n",
              " 'has',\n",
              " 'had',\n",
              " 'having',\n",
              " 'do',\n",
              " 'does',\n",
              " 'did',\n",
              " 'doing',\n",
              " 'a',\n",
              " 'an',\n",
              " 'the',\n",
              " 'and',\n",
              " 'but',\n",
              " 'if',\n",
              " 'or',\n",
              " 'because',\n",
              " 'as',\n",
              " 'until',\n",
              " 'while',\n",
              " 'of',\n",
              " 'at',\n",
              " 'by',\n",
              " 'for',\n",
              " 'with',\n",
              " 'about',\n",
              " 'against',\n",
              " 'between',\n",
              " 'into',\n",
              " 'through',\n",
              " 'during',\n",
              " 'before',\n",
              " 'after',\n",
              " 'above',\n",
              " 'below',\n",
              " 'to',\n",
              " 'from',\n",
              " 'up',\n",
              " 'down',\n",
              " 'in',\n",
              " 'out',\n",
              " 'on',\n",
              " 'off',\n",
              " 'over',\n",
              " 'under',\n",
              " 'again',\n",
              " 'further',\n",
              " 'then',\n",
              " 'once',\n",
              " 'here',\n",
              " 'there',\n",
              " 'when',\n",
              " 'where',\n",
              " 'why',\n",
              " 'how',\n",
              " 'all',\n",
              " 'any',\n",
              " 'both',\n",
              " 'each',\n",
              " 'few',\n",
              " 'more',\n",
              " 'most',\n",
              " 'other',\n",
              " 'some',\n",
              " 'such',\n",
              " 'no',\n",
              " 'nor',\n",
              " 'not',\n",
              " 'only',\n",
              " 'own',\n",
              " 'same',\n",
              " 'so',\n",
              " 'than',\n",
              " 'too',\n",
              " 'very',\n",
              " 's',\n",
              " 't',\n",
              " 'can',\n",
              " 'will',\n",
              " 'just',\n",
              " 'don',\n",
              " \"don't\",\n",
              " 'should',\n",
              " \"should've\",\n",
              " 'now',\n",
              " 'd',\n",
              " 'll',\n",
              " 'm',\n",
              " 'o',\n",
              " 're',\n",
              " 've',\n",
              " 'y',\n",
              " 'ain',\n",
              " 'aren',\n",
              " \"aren't\",\n",
              " 'couldn',\n",
              " \"couldn't\",\n",
              " 'didn',\n",
              " \"didn't\",\n",
              " 'doesn',\n",
              " \"doesn't\",\n",
              " 'hadn',\n",
              " \"hadn't\",\n",
              " 'hasn',\n",
              " \"hasn't\",\n",
              " 'haven',\n",
              " \"haven't\",\n",
              " 'isn',\n",
              " \"isn't\",\n",
              " 'ma',\n",
              " 'mightn',\n",
              " \"mightn't\",\n",
              " 'mustn',\n",
              " \"mustn't\",\n",
              " 'needn',\n",
              " \"needn't\",\n",
              " 'shan',\n",
              " \"shan't\",\n",
              " 'shouldn',\n",
              " \"shouldn't\",\n",
              " 'wasn',\n",
              " \"wasn't\",\n",
              " 'weren',\n",
              " \"weren't\",\n",
              " 'won',\n",
              " \"won't\",\n",
              " 'wouldn',\n",
              " \"wouldn't\"]"
            ]
          },
          "metadata": {},
          "execution_count": 54
        }
      ]
    },
    {
      "cell_type": "code",
      "source": [
        "print(words)"
      ],
      "metadata": {
        "id": "w08PcGg0N3r4",
        "colab": {
          "base_uri": "https://localhost:8080/"
        },
        "outputId": "56825c8e-d79d-45fb-8bf3-ab8f92321a05"
      },
      "execution_count": 55,
      "outputs": [
        {
          "output_type": "stream",
          "name": "stdout",
          "text": [
            "['One', 'who', 'is', 'not', 'envious', 'but', 'is', 'a', 'kind', 'friend', 'to', 'all', 'living', 'entities', ',', 'who', 'does', 'not', 'think', 'himself', 'a', 'proprietor', 'and', 'is', 'free', 'from', 'false', 'ego', ',', 'who', 'is', 'equal', 'in', 'both', 'happiness', 'and', 'distress', ',', 'who', 'is', 'tolerant', ',', 'always', 'satisfied', ',', 'self-controlled', ',', 'and', 'engaged', 'in', 'devotional', 'service', 'with', 'determination', ',', 'his', 'mind', 'and', 'intelligence', 'fixed', 'on', 'Me', '–', 'such', 'a', 'devotee', 'of', 'Mine', 'is', 'very', 'dear', 'to', 'Me', '.', 'He', 'by', 'whom', 'no', 'one', 'is', 'put', 'into', 'difficulty', 'and', 'who', 'is', 'not', 'disturbed', 'by', 'anyone', ',', 'who', 'is', 'equipoised', 'in', 'happiness', 'and', 'distress', ',', 'fear', 'and', 'anxiety', ',', 'is', 'very', 'dear', 'to', 'Me', '.', 'My', 'devotee', 'who', 'is', 'not', 'dependent', 'on', 'the', 'ordinary', 'course', 'of', 'activities', ',', 'who', 'is', 'pure', ',', 'expert', ',', 'without', 'cares', ',', 'free', 'from', 'all', 'pains', ',', 'and', 'not', 'striving', 'for', 'some', 'result', ',', 'is', 'very', 'dear', 'to', 'Me', '.', 'One', 'who', 'neither', 'rejoices', 'nor', 'grieves', ',', 'who', 'neither', 'laments', 'nor', 'desires', ',', 'and', 'who', 'renounces', 'both', 'auspicious', 'and', 'inauspicious', 'things', '–', 'such', 'a', 'devotee', 'is', 'very', 'dear', 'to', 'Me', '.', 'One', 'who', 'is', 'equal', 'to', 'friends', 'and', 'enemies', ',', 'who', 'is', 'equipoised', 'in', 'honor', 'and', 'dishonor', ',', 'heat', 'and', 'cold', ',', 'happiness', 'and', 'distress', ',', 'fame', 'and', 'infamy', ',', 'who', 'is', 'always', 'free', 'from', 'contaminating', 'association', ',', 'always', 'silent', 'and', 'satisfied', 'with', 'anything', ',', 'who', 'doesn', '’', 't', 'care', 'for', 'any', 'residence', ',', 'who', 'is', 'fixed', 'in', 'knowledge', 'and', 'who', 'is', 'engaged', 'in', 'devotional', 'service', '–', 'such', 'a', 'person', 'is', 'very', 'dear', 'to', 'Me', '.', 'Those', 'who', 'follow', 'this', 'imperishable', 'path', 'of', 'devotional', 'service', 'and', 'who', 'completely', 'engage', 'themselves', 'with', 'faith', ',', 'making', 'Me', 'the', 'supreme', 'goal', ',', 'are', 'very', ',', 'very', 'dear', 'to', 'Me', '.']\n"
          ]
        }
      ]
    },
    {
      "cell_type": "code",
      "source": [
        "for word in words:\n",
        "  words=[lemmatizer.lemmatize(word,pos='v') for word in words if word not in set(stopwords.words('english'))]"
      ],
      "metadata": {
        "id": "bFheYSnUEoFT"
      },
      "execution_count": 56,
      "outputs": []
    },
    {
      "cell_type": "code",
      "source": [
        "print(words)"
      ],
      "metadata": {
        "colab": {
          "base_uri": "https://localhost:8080/"
        },
        "id": "BwniL_jXHFxA",
        "outputId": "bd733a36-0134-42c6-b783-699396703a6e"
      },
      "execution_count": 57,
      "outputs": [
        {
          "output_type": "stream",
          "name": "stdout",
          "text": [
            "['One', 'envious', 'kind', 'friend', 'live', 'entities', ',', 'think', 'proprietor', 'free', 'false', 'ego', ',', 'equal', 'happiness', 'distress', ',', 'tolerant', ',', 'always', 'satisfy', ',', 'self-controlled', ',', 'engage', 'devotional', 'service', 'determination', ',', 'mind', 'intelligence', 'fix', 'Me', '–', 'devotee', 'Mine', 'dear', 'Me', '.', 'He', 'one', 'put', 'difficulty', 'disturb', 'anyone', ',', 'equipoised', 'happiness', 'distress', ',', 'fear', 'anxiety', ',', 'dear', 'Me', '.', 'My', 'devotee', 'dependent', 'ordinary', 'course', 'activities', ',', 'pure', ',', 'expert', ',', 'without', 'care', ',', 'free', 'pain', ',', 'strive', 'result', ',', 'dear', 'Me', '.', 'One', 'neither', 'rejoice', 'grieve', ',', 'neither', 'lament', 'desire', ',', 'renounce', 'auspicious', 'inauspicious', 'things', '–', 'devotee', 'dear', 'Me', '.', 'One', 'equal', 'friends', 'enemies', ',', 'equipoised', 'honor', 'dishonor', ',', 'heat', 'cold', ',', 'happiness', 'distress', ',', 'fame', 'infamy', ',', 'always', 'free', 'contaminate', 'association', ',', 'always', 'silent', 'satisfy', 'anything', ',', '’', 'care', 'residence', ',', 'fix', 'knowledge', 'engage', 'devotional', 'service', '–', 'person', 'dear', 'Me', '.', 'Those', 'follow', 'imperishable', 'path', 'devotional', 'service', 'completely', 'engage', 'faith', ',', 'make', 'Me', 'supreme', 'goal', ',', ',', 'dear', 'Me', '.']\n"
          ]
        }
      ]
    },
    {
      "cell_type": "code",
      "source": [
        "nltk.download('averaged_perceptron_tagger')"
      ],
      "metadata": {
        "colab": {
          "base_uri": "https://localhost:8080/"
        },
        "id": "2yi0HfMaK7--",
        "outputId": "110e3853-9d09-4953-ee0f-b2de02550115"
      },
      "execution_count": 58,
      "outputs": [
        {
          "output_type": "stream",
          "name": "stderr",
          "text": [
            "[nltk_data] Downloading package averaged_perceptron_tagger to\n",
            "[nltk_data]     /root/nltk_data...\n",
            "[nltk_data]   Package averaged_perceptron_tagger is already up-to-\n",
            "[nltk_data]       date!\n"
          ]
        },
        {
          "output_type": "execute_result",
          "data": {
            "text/plain": [
              "True"
            ]
          },
          "metadata": {},
          "execution_count": 58
        }
      ]
    },
    {
      "cell_type": "code",
      "source": [
        "print(words)"
      ],
      "metadata": {
        "colab": {
          "base_uri": "https://localhost:8080/"
        },
        "id": "n7xITgBVOT0W",
        "outputId": "32c6fe04-99c2-4e7a-f182-f62ba30c5293"
      },
      "execution_count": 59,
      "outputs": [
        {
          "output_type": "stream",
          "name": "stdout",
          "text": [
            "['One', 'envious', 'kind', 'friend', 'live', 'entities', ',', 'think', 'proprietor', 'free', 'false', 'ego', ',', 'equal', 'happiness', 'distress', ',', 'tolerant', ',', 'always', 'satisfy', ',', 'self-controlled', ',', 'engage', 'devotional', 'service', 'determination', ',', 'mind', 'intelligence', 'fix', 'Me', '–', 'devotee', 'Mine', 'dear', 'Me', '.', 'He', 'one', 'put', 'difficulty', 'disturb', 'anyone', ',', 'equipoised', 'happiness', 'distress', ',', 'fear', 'anxiety', ',', 'dear', 'Me', '.', 'My', 'devotee', 'dependent', 'ordinary', 'course', 'activities', ',', 'pure', ',', 'expert', ',', 'without', 'care', ',', 'free', 'pain', ',', 'strive', 'result', ',', 'dear', 'Me', '.', 'One', 'neither', 'rejoice', 'grieve', ',', 'neither', 'lament', 'desire', ',', 'renounce', 'auspicious', 'inauspicious', 'things', '–', 'devotee', 'dear', 'Me', '.', 'One', 'equal', 'friends', 'enemies', ',', 'equipoised', 'honor', 'dishonor', ',', 'heat', 'cold', ',', 'happiness', 'distress', ',', 'fame', 'infamy', ',', 'always', 'free', 'contaminate', 'association', ',', 'always', 'silent', 'satisfy', 'anything', ',', '’', 'care', 'residence', ',', 'fix', 'knowledge', 'engage', 'devotional', 'service', '–', 'person', 'dear', 'Me', '.', 'Those', 'follow', 'imperishable', 'path', 'devotional', 'service', 'completely', 'engage', 'faith', ',', 'make', 'Me', 'supreme', 'goal', ',', ',', 'dear', 'Me', '.']\n"
          ]
        }
      ]
    },
    {
      "cell_type": "code",
      "source": [
        "pos_tag=nltk.pos_tag(words)\n",
        "print(pos_tag)"
      ],
      "metadata": {
        "colab": {
          "base_uri": "https://localhost:8080/"
        },
        "id": "NGArHH7mHJk1",
        "outputId": "e2481c95-41b5-4a26-a248-e99948fb6371"
      },
      "execution_count": 61,
      "outputs": [
        {
          "output_type": "stream",
          "name": "stdout",
          "text": [
            "[('One', 'CD'), ('envious', 'JJ'), ('kind', 'NN'), ('friend', 'NN'), ('live', 'JJ'), ('entities', 'NNS'), (',', ','), ('think', 'VBP'), ('proprietor', 'NN'), ('free', 'JJ'), ('false', 'JJ'), ('ego', 'NN'), (',', ','), ('equal', 'JJ'), ('happiness', 'NN'), ('distress', 'NN'), (',', ','), ('tolerant', 'NN'), (',', ','), ('always', 'RB'), ('satisfy', 'VB'), (',', ','), ('self-controlled', 'JJ'), (',', ','), ('engage', 'JJ'), ('devotional', 'JJ'), ('service', 'NN'), ('determination', 'NN'), (',', ','), ('mind', 'NN'), ('intelligence', 'NN'), ('fix', 'VB'), ('Me', 'NNP'), ('–', 'NNP'), ('devotee', 'NN'), ('Mine', 'NNP'), ('dear', 'IN'), ('Me', 'NNP'), ('.', '.'), ('He', 'PRP'), ('one', 'CD'), ('put', 'VBD'), ('difficulty', 'NN'), ('disturb', 'NN'), ('anyone', 'NN'), (',', ','), ('equipoised', 'VBD'), ('happiness', 'NN'), ('distress', 'NN'), (',', ','), ('fear', 'NN'), ('anxiety', 'NN'), (',', ','), ('dear', 'VB'), ('Me', 'NNP'), ('.', '.'), ('My', 'NNP'), ('devotee', 'NN'), ('dependent', 'JJ'), ('ordinary', 'JJ'), ('course', 'NN'), ('activities', 'NNS'), (',', ','), ('pure', 'NN'), (',', ','), ('expert', 'NN'), (',', ','), ('without', 'IN'), ('care', 'NN'), (',', ','), ('free', 'JJ'), ('pain', 'NN'), (',', ','), ('strive', 'JJ'), ('result', 'NN'), (',', ','), ('dear', 'IN'), ('Me', 'NNP'), ('.', '.'), ('One', 'CD'), ('neither', 'CC'), ('rejoice', 'NN'), ('grieve', 'NN'), (',', ','), ('neither', 'CC'), ('lament', 'NN'), ('desire', 'NN'), (',', ','), ('renounce', 'NN'), ('auspicious', 'JJ'), ('inauspicious', 'JJ'), ('things', 'NNS'), ('–', 'VBP'), ('devotee', 'NN'), ('dear', 'IN'), ('Me', 'NNP'), ('.', '.'), ('One', 'CD'), ('equal', 'JJ'), ('friends', 'VBZ'), ('enemies', 'NNS'), (',', ','), ('equipoised', 'VBD'), ('honor', 'NN'), ('dishonor', 'NN'), (',', ','), ('heat', 'NN'), ('cold', 'NN'), (',', ','), ('happiness', 'NN'), ('distress', 'NN'), (',', ','), ('fame', 'NN'), ('infamy', 'NN'), (',', ','), ('always', 'RB'), ('free', 'JJ'), ('contaminate', 'NN'), ('association', 'NN'), (',', ','), ('always', 'RB'), ('silent', 'JJ'), ('satisfy', 'NN'), ('anything', 'NN'), (',', ','), ('’', 'NNP'), ('care', 'NN'), ('residence', 'NN'), (',', ','), ('fix', 'VB'), ('knowledge', 'NN'), ('engage', 'VB'), ('devotional', 'JJ'), ('service', 'NN'), ('–', 'NNP'), ('person', 'NN'), ('dear', 'IN'), ('Me', 'NNP'), ('.', '.'), ('Those', 'DT'), ('follow', 'JJ'), ('imperishable', 'JJ'), ('path', 'NN'), ('devotional', 'JJ'), ('service', 'NN'), ('completely', 'RB'), ('engage', 'JJ'), ('faith', 'NN'), (',', ','), ('make', 'VB'), ('Me', 'NNP'), ('supreme', 'JJ'), ('goal', 'NN'), (',', ','), (',', ','), ('dear', 'IN'), ('Me', 'NNP'), ('.', '.')]\n"
          ]
        }
      ]
    },
    {
      "cell_type": "code",
      "source": [],
      "metadata": {
        "id": "ezRPlFTwLZvy"
      },
      "execution_count": null,
      "outputs": []
    }
  ]
}